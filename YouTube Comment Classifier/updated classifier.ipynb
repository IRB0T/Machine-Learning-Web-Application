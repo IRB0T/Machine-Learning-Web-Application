{
 "cells": [
  {
   "cell_type": "code",
   "execution_count": 11,
   "metadata": {},
   "outputs": [],
   "source": [
    "import re\n",
    "import pandas as pd\n",
    "import numpy as np\n",
    "from sklearn.model_selection import train_test_split\n",
    "from sklearn.feature_extraction.text import TfidfVectorizer\n",
    "from sklearn.naive_bayes import MultinomialNB\n",
    "from sklearn.linear_model import LogisticRegression\n",
    "from nltk.corpus import stopwords\n",
    "from nltk.stem import WordNetLemmatizer"
   ]
  },
  {
   "cell_type": "code",
   "execution_count": 12,
   "metadata": {},
   "outputs": [],
   "source": [
    "data= pd.read_csv(\"Data/Combined_data.csv\")\n",
    "data_y = data[\"CLASS\"]\n",
    "corpus = []\n",
    "Lemmatizer = WordNetLemmatizer()\n",
    "for i in range(0,len(data)):\n",
    "    text = re.sub('[^a-zA-Z]', ' ', data[\"CONTENT\"][i])\n",
    "    text = text.lower()\n",
    "    text = text.split()\n",
    "    text = [Lemmatizer.lemmatize(word) for word in text if not word in stopwords.words('english')]\n",
    "    text = ' '.join(text)\n",
    "    corpus.append(text)"
   ]
  },
  {
   "cell_type": "code",
   "execution_count": 14,
   "metadata": {},
   "outputs": [],
   "source": [
    "c = TfidfVectorizer(ngram_range=(2,2),max_features=10000)\n",
    "X = c.fit_transform(corpus)"
   ]
  },
  {
   "cell_type": "code",
   "execution_count": 15,
   "metadata": {},
   "outputs": [
    {
     "data": {
      "text/plain": [
       "MultinomialNB(alpha=1.0, class_prior=None, fit_prior=True)"
      ]
     },
     "execution_count": 15,
     "metadata": {},
     "output_type": "execute_result"
    }
   ],
   "source": [
    "X_train, X_test, y_train, y_test = train_test_split(X, data_y, test_size=0.20, random_state=20)\n",
    "model = MultinomialNB()\n",
    "model.fit(X_train,y_train)"
   ]
  },
  {
   "cell_type": "code",
   "execution_count": 17,
   "metadata": {},
   "outputs": [],
   "source": [
    "pred = model.predict(X_test)"
   ]
  },
  {
   "cell_type": "code",
   "execution_count": 18,
   "metadata": {},
   "outputs": [
    {
     "data": {
      "text/plain": [
       "0.7755102040816326"
      ]
     },
     "execution_count": 18,
     "metadata": {},
     "output_type": "execute_result"
    }
   ],
   "source": [
    "from sklearn.metrics import accuracy_score\n",
    "accuracy_score(y_test,pred)"
   ]
  },
  {
   "cell_type": "code",
   "execution_count": 25,
   "metadata": {},
   "outputs": [
    {
     "name": "stdout",
     "output_type": "stream",
     "text": [
      "['song', 'good']\n",
      "(1, 10000)\n",
      "[0]\n"
     ]
    }
   ],
   "source": [
    "#c1 = \"Huh, anyway check out this you[tube] channel:\"\n",
    "#c1 = \"asdfkkh asjfhkjh asdf\"\n",
    "c1 = \"this song is good ?\"\n",
    "#c1 = \"Shakira u are so not that good\"\n",
    "text = re.sub('[^a-zA-Z]', ' ', c1)\n",
    "text = text.lower()\n",
    "text = text.split()\n",
    "text = [Lemmatizer.lemmatize(word) for word in text if not word in stopwords.words('english')]\n",
    "print(text)\n",
    "text = ' '.join(text)\n",
    "c2= c.transform([text])\n",
    "print(c2.shape)\n",
    "print(model.predict(c2))"
   ]
  },
  {
   "cell_type": "code",
   "execution_count": 26,
   "metadata": {},
   "outputs": [
    {
     "name": "stdout",
     "output_type": "stream",
     "text": [
      "Not Spam\n"
     ]
    }
   ],
   "source": [
    "if model.predict(c2) == 1:\n",
    "    print(\"spam\")\n",
    "else:\n",
    "    print('Not Spam')"
   ]
  }
 ],
 "metadata": {
  "kernelspec": {
   "display_name": "Python 3",
   "language": "python",
   "name": "python3"
  },
  "language_info": {
   "codemirror_mode": {
    "name": "ipython",
    "version": 3
   },
   "file_extension": ".py",
   "mimetype": "text/x-python",
   "name": "python",
   "nbconvert_exporter": "python",
   "pygments_lexer": "ipython3",
   "version": "3.7.6"
  }
 },
 "nbformat": 4,
 "nbformat_minor": 4
}
