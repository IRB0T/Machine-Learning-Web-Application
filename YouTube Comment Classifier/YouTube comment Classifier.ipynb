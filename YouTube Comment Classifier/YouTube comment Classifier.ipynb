{
 "cells": [
  {
   "cell_type": "code",
   "execution_count": 59,
   "metadata": {},
   "outputs": [],
   "source": [
    "import pandas as pd"
   ]
  },
  {
   "cell_type": "code",
   "execution_count": 60,
   "metadata": {},
   "outputs": [],
   "source": [
    "df = pd.read_csv('Combined_data.csv')"
   ]
  },
  {
   "cell_type": "code",
   "execution_count": 90,
   "metadata": {},
   "outputs": [
    {
     "data": {
      "text/html": [
       "<div>\n",
       "<style scoped>\n",
       "    .dataframe tbody tr th:only-of-type {\n",
       "        vertical-align: middle;\n",
       "    }\n",
       "\n",
       "    .dataframe tbody tr th {\n",
       "        vertical-align: top;\n",
       "    }\n",
       "\n",
       "    .dataframe thead th {\n",
       "        text-align: right;\n",
       "    }\n",
       "</style>\n",
       "<table border=\"1\" class=\"dataframe\">\n",
       "  <thead>\n",
       "    <tr style=\"text-align: right;\">\n",
       "      <th></th>\n",
       "      <th>Unnamed: 0</th>\n",
       "      <th>COMMENT_ID</th>\n",
       "      <th>AUTHOR</th>\n",
       "      <th>DATE</th>\n",
       "      <th>CONTENT</th>\n",
       "      <th>CLASS</th>\n",
       "    </tr>\n",
       "  </thead>\n",
       "  <tbody>\n",
       "    <tr>\n",
       "      <th>0</th>\n",
       "      <td>0</td>\n",
       "      <td>LZQPQhLyRh80UYxNuaDWhIGQYNQ96IuCg-AYWqNPjpU</td>\n",
       "      <td>Julius NM</td>\n",
       "      <td>2013-11-07T06:20:48</td>\n",
       "      <td>Huh, anyway check out this you[tube] channel: ...</td>\n",
       "      <td>1</td>\n",
       "    </tr>\n",
       "    <tr>\n",
       "      <th>1</th>\n",
       "      <td>1</td>\n",
       "      <td>LZQPQhLyRh_C2cTtd9MvFRJedxydaVW-2sNg5Diuo4A</td>\n",
       "      <td>adam riyati</td>\n",
       "      <td>2013-11-07T12:37:15</td>\n",
       "      <td>Hey guys check out my new channel and our firs...</td>\n",
       "      <td>1</td>\n",
       "    </tr>\n",
       "    <tr>\n",
       "      <th>2</th>\n",
       "      <td>2</td>\n",
       "      <td>LZQPQhLyRh9MSZYnf8djyk0gEF9BHDPYrrK-qCczIY8</td>\n",
       "      <td>Evgeny Murashkin</td>\n",
       "      <td>2013-11-08T17:34:21</td>\n",
       "      <td>just for test I have to say murdev.com</td>\n",
       "      <td>1</td>\n",
       "    </tr>\n",
       "    <tr>\n",
       "      <th>3</th>\n",
       "      <td>3</td>\n",
       "      <td>z13jhp0bxqncu512g22wvzkasxmvvzjaz04</td>\n",
       "      <td>ElNino Melendez</td>\n",
       "      <td>2013-11-09T08:28:43</td>\n",
       "      <td>me shaking my sexy ass on my channel enjoy ^_^ ﻿</td>\n",
       "      <td>1</td>\n",
       "    </tr>\n",
       "    <tr>\n",
       "      <th>4</th>\n",
       "      <td>4</td>\n",
       "      <td>z13fwbwp1oujthgqj04chlngpvzmtt3r3dw</td>\n",
       "      <td>GsMega</td>\n",
       "      <td>2013-11-10T16:05:38</td>\n",
       "      <td>watch?v=vtaRGgvGtWQ   Check this out .﻿</td>\n",
       "      <td>1</td>\n",
       "    </tr>\n",
       "    <tr>\n",
       "      <th>5</th>\n",
       "      <td>5</td>\n",
       "      <td>LZQPQhLyRh9-wNRtlZDM90f1k0BrdVdJyN_YsaSwfxc</td>\n",
       "      <td>Jason Haddad</td>\n",
       "      <td>2013-11-26T02:55:11</td>\n",
       "      <td>Hey, check out my new website!! This site is a...</td>\n",
       "      <td>1</td>\n",
       "    </tr>\n",
       "    <tr>\n",
       "      <th>6</th>\n",
       "      <td>6</td>\n",
       "      <td>z13lfzdo5vmdi1cm123te5uz2mqig1brz04</td>\n",
       "      <td>ferleck ferles</td>\n",
       "      <td>2013-11-27T21:39:24</td>\n",
       "      <td>Subscribe to my channel ﻿</td>\n",
       "      <td>1</td>\n",
       "    </tr>\n",
       "    <tr>\n",
       "      <th>7</th>\n",
       "      <td>7</td>\n",
       "      <td>z122wfnzgt30fhubn04cdn3xfx2mxzngsl40k</td>\n",
       "      <td>Bob Kanowski</td>\n",
       "      <td>2013-11-28T12:33:27</td>\n",
       "      <td>i turned it on mute as soon is i came on i jus...</td>\n",
       "      <td>0</td>\n",
       "    </tr>\n",
       "    <tr>\n",
       "      <th>8</th>\n",
       "      <td>8</td>\n",
       "      <td>z13ttt1jcraqexk2o234ghbgzxymz1zzi04</td>\n",
       "      <td>Cony</td>\n",
       "      <td>2013-11-28T16:01:47</td>\n",
       "      <td>You should check my channel for Funny VIDEOS!!﻿</td>\n",
       "      <td>1</td>\n",
       "    </tr>\n",
       "    <tr>\n",
       "      <th>9</th>\n",
       "      <td>9</td>\n",
       "      <td>z12avveb4xqiirsix04chxviiljryduwxg0</td>\n",
       "      <td>BeBe Burkey</td>\n",
       "      <td>2013-11-28T16:30:13</td>\n",
       "      <td>and u should.d check my channel and tell me wh...</td>\n",
       "      <td>1</td>\n",
       "    </tr>\n",
       "    <tr>\n",
       "      <th>10</th>\n",
       "      <td>10</td>\n",
       "      <td>z13auhww3oufjn1qo04ci3grqqjmfjexxuo0k</td>\n",
       "      <td>Huckyduck</td>\n",
       "      <td>2013-11-28T17:06:17</td>\n",
       "      <td>Hey subscribe to me﻿</td>\n",
       "      <td>1</td>\n",
       "    </tr>\n",
       "    <tr>\n",
       "      <th>11</th>\n",
       "      <td>11</td>\n",
       "      <td>z13xit5agm2zyh4f523rst2gowmbx5bml</td>\n",
       "      <td>Lone Twistt</td>\n",
       "      <td>2013-11-28T17:34:55</td>\n",
       "      <td>Once you have started reading do not stop. If...</td>\n",
       "      <td>1</td>\n",
       "    </tr>\n",
       "    <tr>\n",
       "      <th>12</th>\n",
       "      <td>12</td>\n",
       "      <td>z13pejoiuozwxtdu323dspopnri4xts0f</td>\n",
       "      <td>Archie Lewis</td>\n",
       "      <td>2013-11-28T17:54:39</td>\n",
       "      <td>https://twitter.com/GBphotographyGB﻿</td>\n",
       "      <td>1</td>\n",
       "    </tr>\n",
       "    <tr>\n",
       "      <th>13</th>\n",
       "      <td>13</td>\n",
       "      <td>z121zxaxsq25z5k5o04ch1o5jqqfij3gtm40k</td>\n",
       "      <td>TheUploadaddict</td>\n",
       "      <td>2013-11-28T18:12:12</td>\n",
       "      <td>subscribe like comment﻿</td>\n",
       "      <td>1</td>\n",
       "    </tr>\n",
       "    <tr>\n",
       "      <th>14</th>\n",
       "      <td>14</td>\n",
       "      <td>z12oglnpoq3gjh4om04cfdlbgp2uepyytpw0k</td>\n",
       "      <td>Francisco Nora</td>\n",
       "      <td>2013-11-28T19:52:35</td>\n",
       "      <td>please like :D https://premium.easypromosapp.c...</td>\n",
       "      <td>1</td>\n",
       "    </tr>\n",
       "    <tr>\n",
       "      <th>15</th>\n",
       "      <td>15</td>\n",
       "      <td>z13phrmwrkfisn5er22eyrbpbvaiwfvwf04</td>\n",
       "      <td>Gaming and Stuff PRO</td>\n",
       "      <td>2013-11-28T21:14:13</td>\n",
       "      <td>Hello! Do you like gaming, art videos, scienti...</td>\n",
       "      <td>1</td>\n",
       "    </tr>\n",
       "    <tr>\n",
       "      <th>16</th>\n",
       "      <td>16</td>\n",
       "      <td>z13bgdvyluihfv11i22rgxwhuvabzz1os04</td>\n",
       "      <td>Zielimeek21</td>\n",
       "      <td>2013-11-28T21:49:00</td>\n",
       "      <td>I'm only checking the views﻿</td>\n",
       "      <td>0</td>\n",
       "    </tr>\n",
       "    <tr>\n",
       "      <th>17</th>\n",
       "      <td>17</td>\n",
       "      <td>z13vxpnoxsyeuv2jr04cctprprb1slnxdf4</td>\n",
       "      <td>OutrightIgnite</td>\n",
       "      <td>2013-11-28T21:55:02</td>\n",
       "      <td>http://www.ebay.com/itm/171183229277?ssPageNam...</td>\n",
       "      <td>1</td>\n",
       "    </tr>\n",
       "    <tr>\n",
       "      <th>18</th>\n",
       "      <td>18</td>\n",
       "      <td>z12qth5j0ob1fx3q404chvy4fz32tbkpllk0k</td>\n",
       "      <td>Tony K Frazier</td>\n",
       "      <td>2013-11-28T23:57:13</td>\n",
       "      <td>http://ubuntuone.com/40beUutVu2ZKxK4uTgPZ8K﻿</td>\n",
       "      <td>1</td>\n",
       "    </tr>\n",
       "    <tr>\n",
       "      <th>19</th>\n",
       "      <td>19</td>\n",
       "      <td>z13etj0bclzfztuwc04cgfvrgmf3fvjor1g</td>\n",
       "      <td>Jose Renteria</td>\n",
       "      <td>2013-11-29T00:22:01</td>\n",
       "      <td>We are an EDM apparel company dedicated to bri...</td>\n",
       "      <td>1</td>\n",
       "    </tr>\n",
       "  </tbody>\n",
       "</table>\n",
       "</div>"
      ],
      "text/plain": [
       "    Unnamed: 0                                   COMMENT_ID  \\\n",
       "0            0  LZQPQhLyRh80UYxNuaDWhIGQYNQ96IuCg-AYWqNPjpU   \n",
       "1            1  LZQPQhLyRh_C2cTtd9MvFRJedxydaVW-2sNg5Diuo4A   \n",
       "2            2  LZQPQhLyRh9MSZYnf8djyk0gEF9BHDPYrrK-qCczIY8   \n",
       "3            3          z13jhp0bxqncu512g22wvzkasxmvvzjaz04   \n",
       "4            4          z13fwbwp1oujthgqj04chlngpvzmtt3r3dw   \n",
       "5            5  LZQPQhLyRh9-wNRtlZDM90f1k0BrdVdJyN_YsaSwfxc   \n",
       "6            6          z13lfzdo5vmdi1cm123te5uz2mqig1brz04   \n",
       "7            7        z122wfnzgt30fhubn04cdn3xfx2mxzngsl40k   \n",
       "8            8          z13ttt1jcraqexk2o234ghbgzxymz1zzi04   \n",
       "9            9          z12avveb4xqiirsix04chxviiljryduwxg0   \n",
       "10          10        z13auhww3oufjn1qo04ci3grqqjmfjexxuo0k   \n",
       "11          11            z13xit5agm2zyh4f523rst2gowmbx5bml   \n",
       "12          12            z13pejoiuozwxtdu323dspopnri4xts0f   \n",
       "13          13        z121zxaxsq25z5k5o04ch1o5jqqfij3gtm40k   \n",
       "14          14        z12oglnpoq3gjh4om04cfdlbgp2uepyytpw0k   \n",
       "15          15          z13phrmwrkfisn5er22eyrbpbvaiwfvwf04   \n",
       "16          16          z13bgdvyluihfv11i22rgxwhuvabzz1os04   \n",
       "17          17          z13vxpnoxsyeuv2jr04cctprprb1slnxdf4   \n",
       "18          18        z12qth5j0ob1fx3q404chvy4fz32tbkpllk0k   \n",
       "19          19          z13etj0bclzfztuwc04cgfvrgmf3fvjor1g   \n",
       "\n",
       "                  AUTHOR                 DATE  \\\n",
       "0              Julius NM  2013-11-07T06:20:48   \n",
       "1            adam riyati  2013-11-07T12:37:15   \n",
       "2       Evgeny Murashkin  2013-11-08T17:34:21   \n",
       "3        ElNino Melendez  2013-11-09T08:28:43   \n",
       "4                 GsMega  2013-11-10T16:05:38   \n",
       "5           Jason Haddad  2013-11-26T02:55:11   \n",
       "6         ferleck ferles  2013-11-27T21:39:24   \n",
       "7           Bob Kanowski  2013-11-28T12:33:27   \n",
       "8                   Cony  2013-11-28T16:01:47   \n",
       "9            BeBe Burkey  2013-11-28T16:30:13   \n",
       "10             Huckyduck  2013-11-28T17:06:17   \n",
       "11           Lone Twistt  2013-11-28T17:34:55   \n",
       "12          Archie Lewis  2013-11-28T17:54:39   \n",
       "13       TheUploadaddict  2013-11-28T18:12:12   \n",
       "14        Francisco Nora  2013-11-28T19:52:35   \n",
       "15  Gaming and Stuff PRO  2013-11-28T21:14:13   \n",
       "16           Zielimeek21  2013-11-28T21:49:00   \n",
       "17        OutrightIgnite  2013-11-28T21:55:02   \n",
       "18        Tony K Frazier  2013-11-28T23:57:13   \n",
       "19         Jose Renteria  2013-11-29T00:22:01   \n",
       "\n",
       "                                              CONTENT  CLASS  \n",
       "0   Huh, anyway check out this you[tube] channel: ...      1  \n",
       "1   Hey guys check out my new channel and our firs...      1  \n",
       "2              just for test I have to say murdev.com      1  \n",
       "3    me shaking my sexy ass on my channel enjoy ^_^ ﻿      1  \n",
       "4             watch?v=vtaRGgvGtWQ   Check this out .﻿      1  \n",
       "5   Hey, check out my new website!! This site is a...      1  \n",
       "6                           Subscribe to my channel ﻿      1  \n",
       "7   i turned it on mute as soon is i came on i jus...      0  \n",
       "8     You should check my channel for Funny VIDEOS!!﻿      1  \n",
       "9   and u should.d check my channel and tell me wh...      1  \n",
       "10                               Hey subscribe to me﻿      1  \n",
       "11   Once you have started reading do not stop. If...      1  \n",
       "12               https://twitter.com/GBphotographyGB﻿      1  \n",
       "13                            subscribe like comment﻿      1  \n",
       "14  please like :D https://premium.easypromosapp.c...      1  \n",
       "15  Hello! Do you like gaming, art videos, scienti...      1  \n",
       "16                       I'm only checking the views﻿      0  \n",
       "17  http://www.ebay.com/itm/171183229277?ssPageNam...      1  \n",
       "18       http://ubuntuone.com/40beUutVu2ZKxK4uTgPZ8K﻿      1  \n",
       "19  We are an EDM apparel company dedicated to bri...      1  "
      ]
     },
     "execution_count": 90,
     "metadata": {},
     "output_type": "execute_result"
    }
   ],
   "source": [
    "df.head(20)"
   ]
  },
  {
   "cell_type": "code",
   "execution_count": 62,
   "metadata": {},
   "outputs": [
    {
     "data": {
      "text/plain": [
       "(1956, 6)"
      ]
     },
     "execution_count": 62,
     "metadata": {},
     "output_type": "execute_result"
    }
   ],
   "source": [
    "df.shape"
   ]
  },
  {
   "cell_type": "code",
   "execution_count": 63,
   "metadata": {},
   "outputs": [],
   "source": [
    "X = df.CONTENT"
   ]
  },
  {
   "cell_type": "code",
   "execution_count": 64,
   "metadata": {},
   "outputs": [],
   "source": [
    "y = df.CLASS"
   ]
  },
  {
   "cell_type": "code",
   "execution_count": 65,
   "metadata": {},
   "outputs": [
    {
     "data": {
      "text/plain": [
       "(1956,)"
      ]
     },
     "execution_count": 65,
     "metadata": {},
     "output_type": "execute_result"
    }
   ],
   "source": [
    "y.shape"
   ]
  },
  {
   "cell_type": "code",
   "execution_count": 66,
   "metadata": {},
   "outputs": [],
   "source": [
    "from nltk.tokenize import word_tokenize\n",
    "from nltk.corpus import stopwords\n",
    "from nltk.stem import PorterStemmer\n",
    "from sklearn.feature_extraction.text import CountVectorizer\n",
    "import re\n",
    "import emoji"
   ]
  },
  {
   "cell_type": "code",
   "execution_count": 67,
   "metadata": {},
   "outputs": [],
   "source": [
    "corpus = []\n",
    "y_label = []\n",
    "stemmer = PorterStemmer()\n",
    "for i in range(0,len(X)):\n",
    "    if len(X[i]) > 1:\n",
    "        text = re.sub(\"http[s]?://(?:[a-zA-Z]|[0-9]|[$-_@.&+]|[!*\\(\\), ]|(?:%[0-9a-fA-F][0-9a-fA-F]))+\",\" \" + \" \" + \" \",X[i])\n",
    "        text = re.sub('[^a-zA-Z0-9]',' ',text)\n",
    "        text = re.sub(emoji.get_emoji_regexp(), r\"\", text)\n",
    "        text = text.lower()\n",
    "        words = word_tokenize(text)\n",
    "        text = [stemmer.stem(word) for word in words if not word in stopwords.words('english')]\n",
    "        if len(text) > 1:\n",
    "            text = ' '.join(text)\n",
    "            corpus.append(text)\n",
    "            y_label.append(y[i])"
   ]
  },
  {
   "cell_type": "code",
   "execution_count": 69,
   "metadata": {},
   "outputs": [
    {
     "data": {
      "text/plain": [
       "1734"
      ]
     },
     "execution_count": 69,
     "metadata": {},
     "output_type": "execute_result"
    }
   ],
   "source": [
    "len(corpus)"
   ]
  },
  {
   "cell_type": "code",
   "execution_count": 74,
   "metadata": {},
   "outputs": [
    {
     "data": {
      "text/plain": [
       "1734"
      ]
     },
     "execution_count": 74,
     "metadata": {},
     "output_type": "execute_result"
    }
   ],
   "source": [
    "len(y_label)"
   ]
  },
  {
   "cell_type": "code",
   "execution_count": 100,
   "metadata": {},
   "outputs": [],
   "source": [
    "countvectorizer = CountVectorizer()\n",
    "X = countvectorizer.fit_transform(corpus)"
   ]
  },
  {
   "cell_type": "code",
   "execution_count": 80,
   "metadata": {},
   "outputs": [
    {
     "data": {
      "text/plain": [
       "(1734, 3124)"
      ]
     },
     "execution_count": 80,
     "metadata": {},
     "output_type": "execute_result"
    }
   ],
   "source": [
    "X.shape"
   ]
  },
  {
   "cell_type": "code",
   "execution_count": 81,
   "metadata": {},
   "outputs": [],
   "source": [
    "from sklearn.model_selection import train_test_split\n",
    "from sklearn.naive_bayes import MultinomialNB\n",
    "from sklearn.metrics import accuracy_score"
   ]
  },
  {
   "cell_type": "code",
   "execution_count": 108,
   "metadata": {},
   "outputs": [
    {
     "data": {
      "text/plain": [
       "0.9221453287197232"
      ]
     },
     "execution_count": 108,
     "metadata": {},
     "output_type": "execute_result"
    }
   ],
   "source": [
    "from sklearn.linear_model import LogisticRegression\n",
    "clf = LogisticRegression(random_state=0)\n",
    "clf.fit(X_train, y_train)\n",
    "p=clf.predict(X_test)\n",
    "accuracy_score(y_test,p)"
   ]
  },
  {
   "cell_type": "code",
   "execution_count": 114,
   "metadata": {},
   "outputs": [
    {
     "name": "stdout",
     "output_type": "stream",
     "text": [
      "[0]\n"
     ]
    }
   ],
   "source": [
    "msg = \" google search this video\"\n",
    "msg = [msg]\n",
    "msg = countvectorizer.transform(msg).toarray()\n",
    "print(clf.predict(msg))"
   ]
  }
 ],
 "metadata": {
  "kernelspec": {
   "display_name": "Python 3",
   "language": "python",
   "name": "python3"
  },
  "language_info": {
   "codemirror_mode": {
    "name": "ipython",
    "version": 3
   },
   "file_extension": ".py",
   "mimetype": "text/x-python",
   "name": "python",
   "nbconvert_exporter": "python",
   "pygments_lexer": "ipython3",
   "version": "3.7.6"
  }
 },
 "nbformat": 4,
 "nbformat_minor": 4
}
